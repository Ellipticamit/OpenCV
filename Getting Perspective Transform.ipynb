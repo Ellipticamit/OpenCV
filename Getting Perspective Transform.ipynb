{
 "cells": [
  {
   "cell_type": "code",
   "execution_count": 1,
   "metadata": {},
   "outputs": [],
   "source": [
    "import numpy as np\n",
    "import cv2 as cv"
   ]
  },
  {
   "cell_type": "code",
   "execution_count": 2,
   "metadata": {},
   "outputs": [],
   "source": [
    "img = cv.imread('images/scan.jpg')\n",
    "cv.imshow('Original', img)\n",
    "cv.waitKey(0)\n",
    "\n",
    "points_A = np.float32([[320, 15], [700,215], [85, 610], [530,780]])\n",
    "\n",
    "points_B = np.float32([[0,0], [420,0], [0,594], [420,594]])\n",
    "\n",
    "M = cv.getPerspectiveTransform(points_A, points_B)\n",
    "\n",
    "warped = cv.warpPerspective(img, M, (420, 594))\n",
    "\n",
    "cv.imshow('warmPerspective', warped)\n",
    "cv.waitKey(0)\n",
    "cv.destroyAllWindows()"
   ]
  },
  {
   "cell_type": "code",
   "execution_count": 3,
   "metadata": {},
   "outputs": [],
   "source": [
    "image = cv.imread('images/ex2.jpg')\n",
    "rows, cols, ch = image.shape\n",
    "\n",
    "cv.imshow('Origianl', image)\n",
    "cv.waitKey(0)\n",
    "\n",
    "points_A = np.float32([[320,15], [700,215], [85, 610]])\n",
    "\n",
    "points_B = np.float32(([0,0], [420,0], [0,594]))\n",
    "\n",
    "M = cv.getAffineTransform(points_A, points_B)\n",
    "\n",
    "warped = cv.warpAffine(image, M, (cols, rows))\n",
    "\n",
    "cv.imshow('warpPerspective', warped)\n",
    "cv.waitKey(0)\n",
    "cv.destroyAllWindows()"
   ]
  },
  {
   "cell_type": "code",
   "execution_count": null,
   "metadata": {},
   "outputs": [],
   "source": []
  }
 ],
 "metadata": {
  "kernelspec": {
   "display_name": "Python 2",
   "language": "python",
   "name": "python2"
  },
  "language_info": {
   "codemirror_mode": {
    "name": "ipython",
    "version": 2
   },
   "file_extension": ".py",
   "mimetype": "text/x-python",
   "name": "python",
   "nbconvert_exporter": "python",
   "pygments_lexer": "ipython2",
   "version": "2.7.14"
  }
 },
 "nbformat": 4,
 "nbformat_minor": 2
}
