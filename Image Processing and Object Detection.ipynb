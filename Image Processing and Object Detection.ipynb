{
 "cells": [
  {
   "cell_type": "code",
   "execution_count": 5,
   "metadata": {},
   "outputs": [],
   "source": [
    "import numpy as np\n",
    "import cv2 as cv"
   ]
  },
  {
   "cell_type": "code",
   "execution_count": 6,
   "metadata": {},
   "outputs": [
    {
     "name": "stdout",
     "output_type": "stream",
     "text": [
      "[[[ 60 255 255]]]\n"
     ]
    }
   ],
   "source": [
    "yellow = np.uint8([[[0,255,0]]])\n",
    "hsv_y = cv.cvtColor(yellow, cv.COLOR_BGR2HSV)\n",
    "print hsv_y"
   ]
  },
  {
   "cell_type": "code",
   "execution_count": 7,
   "metadata": {},
   "outputs": [],
   "source": [
    "cap = cv.VideoCapture(0)"
   ]
  },
  {
   "cell_type": "code",
   "execution_count": null,
   "metadata": {},
   "outputs": [],
   "source": [
    "while(1):\n",
    "    _, frame = cap.read()\n",
    "    hsv = cv.cvtColor(frame, cv.COLOR_BGR2HSV)\n",
    "    #yellow\n",
    "    lower_yellow = np.array([20,100,100])\n",
    "    upper_yellow = np.array([40,255,255])\n",
    "    #green\n",
    "    lower_blue = np.array([110,50,50])\n",
    "    upper_blue = np.array([130,255,255])\n",
    "    \n",
    "    y_mask = cv.inRange(hsv, lower_yellow, upper_yellow)\n",
    "    b_mask = cv.inRange(hsv, lower_blue, upper_blue)\n",
    "    \n",
    "    mask = y_mask + b_mask\n",
    "    \n",
    "    res = cv.bitwise_and(frame, frame, mask = mask)\n",
    "    \n",
    "    \n",
    "    #cv.imshow('frame', frame)\n",
    "    #cv.imshow('mask', mask)\n",
    "    cv.imshow('res',res)\n",
    "    \n",
    "    k = cv.waitKey(5) & 0XFF\n",
    "    if k == 27:\n",
    "        break\n",
    "\n",
    "cap.release()\n",
    "cv.destroyAllWindows()\n"
   ]
  },
  {
   "cell_type": "code",
   "execution_count": null,
   "metadata": {},
   "outputs": [],
   "source": []
  }
 ],
 "metadata": {
  "kernelspec": {
   "display_name": "Python 2",
   "language": "python",
   "name": "python2"
  },
  "language_info": {
   "codemirror_mode": {
    "name": "ipython",
    "version": 2
   },
   "file_extension": ".py",
   "mimetype": "text/x-python",
   "name": "python",
   "nbconvert_exporter": "python",
   "pygments_lexer": "ipython2",
   "version": "2.7.14"
  }
 },
 "nbformat": 4,
 "nbformat_minor": 2
}
