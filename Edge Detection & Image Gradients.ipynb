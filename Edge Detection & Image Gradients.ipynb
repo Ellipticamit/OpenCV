{
 "cells": [
  {
   "cell_type": "code",
   "execution_count": 1,
   "metadata": {},
   "outputs": [],
   "source": [
    "import cv2 as cv\n",
    "import numpy as np"
   ]
  },
  {
   "cell_type": "code",
   "execution_count": 2,
   "metadata": {},
   "outputs": [],
   "source": [
    "img = cv.imread('images/input.jpg', 0)\n",
    "h, w = img.shape\n",
    "\n",
    "# Extract Sobel Edges\n",
    "sobel_x = cv.Sobel(img, cv.CV_64F, 0, 1, ksize=5)\n",
    "sobel_y = cv.Sobel(img, cv.CV_64F, 1, 0, ksize=5)"
   ]
  },
  {
   "cell_type": "code",
   "execution_count": 5,
   "metadata": {},
   "outputs": [],
   "source": [
    "cv.imshow('Original', img)\n",
    "cv.waitKey(0)\n",
    "cv.imshow('Sobel_x', sobel_x)\n",
    "cv.waitKey(0)\n",
    "cv.imshow('Sobel_y', sobel_y)\n",
    "cv.waitKey(0)\n",
    "\n",
    "sobel_OR = cv.bitwise_or(sobel_x, sobel_y)\n",
    "cv.imshow('sobel_OR', sobel_OR)\n",
    "cv.waitKey(0)\n",
    "\n",
    "laplacian = cv.Laplacian(img, cv.CV_64F)\n",
    "cv.imshow('Laplacian', laplacian)\n",
    "cv.waitKey(0)\n",
    "\n",
    "\n",
    "##  Then, we need to provide two values: threshold1 and threshold2. Any gradient value larger than threshold2\n",
    "# is considered to be an edge. Any value below threshold1 is considered not to be an edge. \n",
    "#Values in between threshold1 and threshold2 are either classiﬁed as edges or non-edges based on how their \n",
    "#intensities are “connected”. In this case, any gradient values below 60 are considered non-edges\n",
    "#whereas any values above 120 are considered edges.\n",
    "\n",
    "\n",
    "# Canny Edge Detection uses gradient values as thresholds\n",
    "# The first threshold gradient\n",
    "canny = cv.Canny(img, 50, 120)\n",
    "cv.imshow('Canny', canny)\n",
    "cv.waitKey(0)\n",
    "\n",
    "cv.destroyAllWindows()"
   ]
  },
  {
   "cell_type": "code",
   "execution_count": null,
   "metadata": {},
   "outputs": [],
   "source": []
  }
 ],
 "metadata": {
  "kernelspec": {
   "display_name": "Python 2",
   "language": "python",
   "name": "python2"
  },
  "language_info": {
   "codemirror_mode": {
    "name": "ipython",
    "version": 2
   },
   "file_extension": ".py",
   "mimetype": "text/x-python",
   "name": "python",
   "nbconvert_exporter": "python",
   "pygments_lexer": "ipython2",
   "version": "2.7.14"
  }
 },
 "nbformat": 4,
 "nbformat_minor": 2
}
