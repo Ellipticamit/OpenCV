{
 "cells": [
  {
   "cell_type": "code",
   "execution_count": 1,
   "metadata": {},
   "outputs": [],
   "source": [
    "import cv2 as cv\n",
    "import numpy as np"
   ]
  },
  {
   "cell_type": "code",
   "execution_count": 2,
   "metadata": {},
   "outputs": [],
   "source": [
    "image = cv.imread('images/opencv_inv.png', 0)\n",
    "cv.imshow('original', image)\n",
    "cv.waitKey(0)\n",
    "\n",
    "kernel = np.ones((5,5), np.uint8)\n",
    "\n",
    "erosion = cv.erode(image, kernel, iterations=1)\n",
    "cv.imshow('Erosion', erosion)\n",
    "cv.waitKey(0)\n",
    "\n",
    "dilation = cv.dilate(image, kernel, iterations=1)\n",
    "cv.imshow('Dilation', dilation)\n",
    "cv.waitKey(0)\n",
    "\n",
    "opening = cv.morphologyEx(image, cv.MORPH_OPEN, kernel)\n",
    "cv.imshow('Opening', opening)\n",
    "cv.waitKey(0)\n",
    "\n",
    "closing = cv.morphologyEx(image, cv.MORPH_CLOSE, kernel)\n",
    "cv.imshow('Closing', closing)\n",
    "cv.waitKey(0)\n",
    "\n",
    "cv.destroyAllWindows()"
   ]
  },
  {
   "cell_type": "code",
   "execution_count": null,
   "metadata": {},
   "outputs": [],
   "source": []
  }
 ],
 "metadata": {
  "kernelspec": {
   "display_name": "Python 2",
   "language": "python",
   "name": "python2"
  },
  "language_info": {
   "codemirror_mode": {
    "name": "ipython",
    "version": 2
   },
   "file_extension": ".py",
   "mimetype": "text/x-python",
   "name": "python",
   "nbconvert_exporter": "python",
   "pygments_lexer": "ipython2",
   "version": "2.7.14"
  }
 },
 "nbformat": 4,
 "nbformat_minor": 2
}
