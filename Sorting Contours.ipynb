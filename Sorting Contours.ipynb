{
 "cells": [
  {
   "cell_type": "code",
   "execution_count": 3,
   "metadata": {},
   "outputs": [],
   "source": [
    "import cv2 as cv\n",
    "import numpy as np"
   ]
  },
  {
   "cell_type": "code",
   "execution_count": 4,
   "metadata": {},
   "outputs": [
    {
     "name": "stdout",
     "output_type": "stream",
     "text": [
      "('Number of contours found = ', 4)\n"
     ]
    }
   ],
   "source": [
    "image = cv.imread('images/bunchofshapes.jpg')\n",
    "cv.imshow('0 - Original Image', image)\n",
    "cv.waitKey(0)\n",
    "\n",
    "blank_image = np.zeros((image.shape[0], image.shape[1], 3))\n",
    "\n",
    "original_image = image\n",
    "\n",
    "gray = cv.cvtColor(image, cv.COLOR_BGR2GRAY)\n",
    "\n",
    "edged = cv.Canny(gray, 50, 200)\n",
    "cv.imshow('1 - Canny Edges', edged)\n",
    "cv.waitKey(0)\n",
    "\n",
    "contours, hierarchy = cv.findContours(edged.copy(), cv.RETR_EXTERNAL, cv.CHAIN_APPROX_NONE)\n",
    "print(\"Number of contours found = \", len(contours))\n",
    "\n",
    "cv.drawContours(blank_image, contours, -1, (0,255,0), 3)\n",
    "cv.imshow('3 - All Contorus', image)\n",
    "cv.waitKey(0)\n",
    "\n",
    "cv.destroyAllWindows()\n"
   ]
  },
  {
   "cell_type": "code",
   "execution_count": 10,
   "metadata": {},
   "outputs": [
    {
     "name": "stdout",
     "output_type": "stream",
     "text": [
      "Contour Areas before sorting [20587.5, 22901.5, 66579.5, 90222.0]\n",
      "Contour Areas after sorting [90222.0, 66579.5, 22901.5, 20587.5]\n"
     ]
    }
   ],
   "source": [
    "def get_contour_areas(contours):\n",
    "    all_areas = []\n",
    "    for cnt in contours:\n",
    "        area = cv.contourArea(cnt)\n",
    "        all_areas.append(area)\n",
    "    return all_areas\n",
    "\n",
    "img = cv.imread('images/bunchofshapes.jpg')\n",
    "original_img = img\n",
    "\n",
    "print \"Contour Areas before sorting\",\n",
    "print get_contour_areas(contours)\n",
    "\n",
    "sorted_contours = sorted(contours, key=cv.contourArea, reverse=True)\n",
    "\n",
    "print \"Contour Areas after sorting\",\n",
    "print get_contour_areas(sorted_contours)\n",
    "\n",
    "for c in sorted_contours:\n",
    "    cv.drawContours(original_image, [c], -1, (255,0,0), 3)\n",
    "    cv.waitKey(0)\n",
    "    cv.imshow(\"Contours by area\", original_image)\n",
    "    \n",
    "cv.waitKey(0)\n",
    "cv.destroyAllWindows()"
   ]
  },
  {
   "cell_type": "code",
   "execution_count": 20,
   "metadata": {
    "scrolled": true
   },
   "outputs": [
    {
     "name": "stdout",
     "output_type": "stream",
     "text": [
      "output_shape_number_1.jpg\n",
      "output_shape_number_2.jpg\n",
      "output_shape_number_3.jpg\n",
      "output_shape_number_4.jpg\n"
     ]
    }
   ],
   "source": [
    "def x_cord_contour(contours):\n",
    "    if cv.contourArea(contours) > 10:\n",
    "        M = cv.moments(contours)\n",
    "        return (int(M['m10']/M['m00']))\n",
    "\n",
    "def label_contour_center(images, c):\n",
    "    M = cv.moments(c)\n",
    "    cx = int(M['m10'] / M['m00'])\n",
    "    cy = int(M['m01'] / M['m00'])\n",
    "    \n",
    "    cv.circle(images, (cx,cy), 10, (0,0,255), -1)\n",
    "    \n",
    "    cv.circle(images, (cx,cy), 10, (0,0,255), -1)\n",
    "    return images\n",
    "\n",
    "image = cv.imread('images/bunchofshapes.jpg')\n",
    "original_image = image.copy()\n",
    "\n",
    "for (i, c) in enumerate(contours):\n",
    "    orig = label_contour_center(image, c)\n",
    "    \n",
    "cv.imshow(\"4 - Contour Centers\", image)\n",
    "cv.waitKey(0)\n",
    "\n",
    "contours_left_to_right = sorted(contours, key = x_cord_contour, reverse = False)\n",
    "\n",
    "for (i,c) in enumerate(contours_left_to_right):\n",
    "    cv.drawContours(original_image, [c], -1, (0,0,255), 3)\n",
    "    M = cv.moments(c)\n",
    "    cx = int(M['m10'] / M['m00'])\n",
    "    cy = int(M['m01'] / M['m00'])\n",
    "    cv.imshow('6 - Left to Right Contour', original_image)\n",
    "    cv.waitKey(0)\n",
    "    (x, y, w, h) = cv.boundingRect(c)  \n",
    "    \n",
    "    # Let's now crop each contour and save these images\n",
    "    cropped_contour = original_image[y:y + h, x:x + w]\n",
    "    image_name = \"output_shape_number_\" + str(i+1) + \".jpg\"\n",
    "    print image_name\n",
    "    cv.imwrite(image_name, cropped_contour)\n",
    "    \n",
    "cv.destroyAllWindows()"
   ]
  },
  {
   "cell_type": "code",
   "execution_count": null,
   "metadata": {},
   "outputs": [],
   "source": []
  }
 ],
 "metadata": {
  "kernelspec": {
   "display_name": "Python 2",
   "language": "python",
   "name": "python2"
  },
  "language_info": {
   "codemirror_mode": {
    "name": "ipython",
    "version": 2
   },
   "file_extension": ".py",
   "mimetype": "text/x-python",
   "name": "python",
   "nbconvert_exporter": "python",
   "pygments_lexer": "ipython2",
   "version": "2.7.14"
  }
 },
 "nbformat": 4,
 "nbformat_minor": 2
}
