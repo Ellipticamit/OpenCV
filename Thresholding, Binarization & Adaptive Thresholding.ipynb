{
 "cells": [
  {
   "cell_type": "code",
   "execution_count": 1,
   "metadata": {},
   "outputs": [],
   "source": [
    "import cv2 as cv \n",
    "import numpy as np\n",
    "img = cv.imread('images/gradient.jpg', 0)"
   ]
  },
  {
   "cell_type": "code",
   "execution_count": 2,
   "metadata": {},
   "outputs": [],
   "source": [
    "cv.imshow('original', img)\n",
    "\n",
    "ret, thresh1 = cv.threshold(img, 127, 255, cv.THRESH_BINARY)\n",
    "cv.imshow('1 Threshold Binary', thresh1)\n",
    "\n",
    "ret, thresh2 = cv.threshold(img, 127, 255, cv.THRESH_BINARY_INV)\n",
    "cv.imshow('2 Threshold Binary inverse', thresh2)\n",
    "\n",
    "ret, thresh3 = cv.threshold(img, 127, 255, cv.THRESH_TRUNC)\n",
    "cv.imshow('3 THRESH TRUNC', thresh3)\n",
    "\n",
    "ret, thresh4 = cv.threshold(img, 127, 255, cv.THRESH_TOZERO)\n",
    "cv.imshow('4 THRESH TOZERO', thresh4)\n",
    "\n",
    "ret, thresh5 = cv.threshold(img, 127, 255, cv.THRESH_TOZERO_INV)\n",
    "cv.imshow('5 THRESH TOXERO', thresh5)\n",
    "\n",
    "cv.waitKey(0)\n",
    "cv.destroyAllWindows()"
   ]
  },
  {
   "cell_type": "code",
   "execution_count": 4,
   "metadata": {},
   "outputs": [],
   "source": [
    "image = cv.imread('images/Origin_of_Species.jpg', 0)\n",
    "\n",
    "cv.imshow(\"Original Image\", image)\n",
    "#cv.waitKey()\n",
    "\n",
    "ret, thresh1 = cv.threshold(image, 127, 255, cv.THRESH_BINARY)\n",
    "cv.imshow(\"Threshold Binary\", thresh1)\n",
    "\n",
    "# It's good practice to blur images as it removes noise\n",
    "image = cv.GaussianBlur(image, (3,3), 0)\n",
    "\n",
    "# Using adaptiveThreshold\n",
    "thresh = cv.adaptiveThreshold(image, 255, cv.ADAPTIVE_THRESH_MEAN_C, \n",
    "                               cv.THRESH_BINARY, 3, 5) \n",
    "cv.imshow(\"Adaptive Mean Thresholding\", thresh) \n",
    "\n",
    "_, th2 = cv.threshold(image, 0, 255, cv.THRESH_BINARY + cv.THRESH_OTSU)\n",
    "cv.imshow(\"Ostu Thresholding\", thresh)\n",
    "\n",
    "# Otsu's thresholding after Gaussian filtering\n",
    "blur = cv.GaussianBlur(image, (5,5), 0)\n",
    "_, th3 = cv.threshold(blur, 0, 255, cv.THRESH_BINARY + cv.THRESH_OTSU )\n",
    "cv.imshow(\"Gaussian otsu's Thresholding\", thresh)\n",
    "\n",
    "cv.waitKey(0)\n",
    "cv.destroyAllWindows()\n"
   ]
  },
  {
   "cell_type": "code",
   "execution_count": null,
   "metadata": {},
   "outputs": [],
   "source": []
  }
 ],
 "metadata": {
  "kernelspec": {
   "display_name": "Python 2",
   "language": "python",
   "name": "python2"
  },
  "language_info": {
   "codemirror_mode": {
    "name": "ipython",
    "version": 2
   },
   "file_extension": ".py",
   "mimetype": "text/x-python",
   "name": "python",
   "nbconvert_exporter": "python",
   "pygments_lexer": "ipython2",
   "version": "2.7.14"
  }
 },
 "nbformat": 4,
 "nbformat_minor": 2
}
