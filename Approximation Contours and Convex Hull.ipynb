{
 "cells": [
  {
   "cell_type": "code",
   "execution_count": 1,
   "metadata": {},
   "outputs": [],
   "source": [
    "import cv2 as cv\n",
    "import numpy as np\n",
    "image = cv.imread('images/house.jpg')\n",
    "orig_img = image.copy()"
   ]
  },
  {
   "cell_type": "code",
   "execution_count": null,
   "metadata": {},
   "outputs": [],
   "source": [
    "cv.imshow('Original Image', orig_img)\n",
    "cv.waitKey(0)\n",
    "\n",
    "gray = cv.cvtColor(image, cv.COLOR_BGR2GRAY)\n",
    "ret, thresh = cv.threshold(gray, 127, 253, cv.THRESH_BINARY_INV)\n",
    "\n",
    "contours, hierarchy = cv.findContours(thresh.copy(), cv.RETR_LIST, cv.CHAIN_APPROX_NONE)\n",
    "\n",
    "for c in contours:\n",
    "    x,y,w,h = cv.boundingRect(c)\n",
    "    cv.rectangle(orig_image)"
   ]
  }
 ],
 "metadata": {
  "kernelspec": {
   "display_name": "Python 2",
   "language": "python",
   "name": "python2"
  },
  "language_info": {
   "codemirror_mode": {
    "name": "ipython",
    "version": 2
   },
   "file_extension": ".py",
   "mimetype": "text/x-python",
   "name": "python",
   "nbconvert_exporter": "python",
   "pygments_lexer": "ipython2",
   "version": "2.7.14"
  }
 },
 "nbformat": 4,
 "nbformat_minor": 2
}
